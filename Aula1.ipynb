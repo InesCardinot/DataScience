{
  "nbformat": 4,
  "nbformat_minor": 0,
  "metadata": {
    "colab": {
      "name": "Untitled1.ipynb",
      "provenance": [],
      "authorship_tag": "ABX9TyOVPmcOusH6C0PRaYFonGtw",
      "include_colab_link": true
    },
    "kernelspec": {
      "name": "python3",
      "display_name": "Python 3"
    }
  },
  "cells": [
    {
      "cell_type": "markdown",
      "metadata": {
        "id": "view-in-github",
        "colab_type": "text"
      },
      "source": [
        "<a href=\"https://colab.research.google.com/github/InesCardinot/DataScience/blob/main/Aula1.ipynb\" target=\"_parent\"><img src=\"https://colab.research.google.com/assets/colab-badge.svg\" alt=\"Open In Colab\"/></a>"
      ]
    },
    {
      "cell_type": "code",
      "metadata": {
        "id": "RWUTfLkLClPs"
      },
      "source": [
        ""
      ],
      "execution_count": null,
      "outputs": []
    },
    {
      "cell_type": "markdown",
      "metadata": {
        "id": "9IIwzbRwFgGZ"
      },
      "source": [
        "# Exemplo de Notebook\n",
        "\n"
      ]
    },
    {
      "cell_type": "markdown",
      "metadata": {
        "id": "KKLmfsIaFlyQ"
      },
      "source": [
        "Esse é o meu *primeiro* exemplo de **código**"
      ]
    },
    {
      "cell_type": "markdown",
      "metadata": {
        "id": "eczIR-CzFk2S"
      },
      "source": [
        "<img src = 'https://raw.githubusercontent.com/InesCardinot/DataScience/main/programacao-em-python.jpg'>\n"
      ]
    },
    {
      "cell_type": "markdown",
      "metadata": {
        "id": "Ln5HpL6CKCPY"
      },
      "source": [
        "#Esse notebook é sobre a aula 1\n",
        "\n",
        "**Código para inserir imagem**\n",
        "\n",
        "<img src = '   \n",
        "\n",
        "*inserir como texto*\n",
        "\n",
        "\n",
        "---\n"
      ]
    },
    {
      "cell_type": "code",
      "metadata": {
        "colab": {
          "base_uri": "https://localhost:8080/"
        },
        "id": "JQ-aJyK5L7Db",
        "outputId": "022acf0f-461c-41eb-8e2e-f8b183e9a22f"
      },
      "source": [
        "print('Hello, World!')"
      ],
      "execution_count": 9,
      "outputs": [
        {
          "output_type": "stream",
          "text": [
            "Hello, World!\n"
          ],
          "name": "stdout"
        }
      ]
    },
    {
      "cell_type": "markdown",
      "metadata": {
        "id": "BugboGrkMoJM"
      },
      "source": [
        "o comando *print* deve ser escrito como código e a mensagem entre (\"\")\n",
        "\n",
        "---\n"
      ]
    }
  ]
}